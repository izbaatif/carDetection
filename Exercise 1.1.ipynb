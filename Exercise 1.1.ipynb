{
 "cells": [
  {
   "cell_type": "markdown",
   "id": "c4c7127a",
   "metadata": {},
   "source": [
    "<html>\n",
    "    <body>\n",
    "        <h1 align='center'> Motion Detection </h1>\n",
    "        <p> For this task, I just need opencv library so I first download it and then import it. I decided to detect motion by using the background subtraction and frame differencing method. The first frame was the base frame. Then the program checked if the frame was empty and if it was it will break the loop. This is for releasing the video when it ends. Since opencv uses brg instead of the basic rgb, I converted the frames to grey and then the first frame is assigned if its not done already. After this the difference between the first and current frame is calculated and the threshold function is used to get the difference. Using that the contours are found and drawn. Lastly, the webcam video is shown with the contours on it. Small contours are ignored so I set this value high to ignore people and cars that aren't on the main street.</p>\n",
    "    </body>\n",
    "</html>"
   ]
  },
  {
   "cell_type": "code",
   "execution_count": 1,
   "id": "ab1ccfd4",
   "metadata": {},
   "outputs": [
    {
     "name": "stdout",
     "output_type": "stream",
     "text": [
      "Defaulting to user installation because normal site-packages is not writeable\n",
      "Requirement already satisfied: opencv-python in c:\\users\\izbaa\\appdata\\roaming\\python\\python39\\site-packages (4.7.0.68)\n",
      "Requirement already satisfied: numpy>=1.17.3 in c:\\programdata\\anaconda3\\lib\\site-packages (from opencv-python) (1.21.5)\n",
      "Note: you may need to restart the kernel to use updated packages.\n"
     ]
    }
   ],
   "source": [
    "pip install opencv-python"
   ]
  },
  {
   "cell_type": "code",
   "execution_count": 2,
   "id": "4bb7608e",
   "metadata": {},
   "outputs": [],
   "source": [
    "import cv2"
   ]
  },
  {
   "cell_type": "code",
   "execution_count": 3,
   "id": "86434d24",
   "metadata": {},
   "outputs": [],
   "source": [
    "#set first frame to None initially \n",
    "first_frame = None\n",
    "\n",
    "# We use VideoCapture function to open video\n",
    "video=cv2.VideoCapture(\"Traffic_Laramie_1.mp4\")\n",
    "\n",
    "\n",
    "# Start a loop and keep reading frames until we press 'q' or the video ends\n",
    "while True:\n",
    "    \n",
    "    #reads frames\n",
    "    check, frame = video.read()\n",
    "    \n",
    "    #Checks if the video has ended and breaks the loop if its true\n",
    "    if frame is None:\n",
    "        break\n",
    " \n",
    "    #First convert to grey because opencv uses brg\n",
    "    current_frame=cv2.cvtColor(frame,cv2.COLOR_BGR2GRAY)\n",
    "    \n",
    "    #Checks if the first frame is not assigned yet\n",
    "    if (first_frame is None):\n",
    "        #Assigns that frame as the first frame\n",
    "        first_frame = current_frame\n",
    "        continue\n",
    "            \n",
    "    #Calculates the difference and threshold\n",
    "    delta_frame = cv2.absdiff(first_frame, current_frame)\n",
    "    threshold_frame=cv2.threshold(delta_frame, 20 ,255, cv2.THRESH_BINARY)[1]\n",
    "    \n",
    "    #Finds the contours in threshold\n",
    "    (contours,_)=cv2.findContours(threshold_frame,cv2.RETR_EXTERNAL,cv2.CHAIN_APPROX_SIMPLE)\n",
    "    \n",
    "\n",
    "    #Loops in the contours array\n",
    "    for c in contours:\n",
    "        # contourArea() method filters out any small contours\n",
    "        if cv2.contourArea(c) < 3500:\n",
    "            continue\n",
    "            \n",
    "        #Finally draw the contours\n",
    "        (x, y, w, h)=cv2.boundingRect(c)\n",
    "        cv2.rectangle(frame, (x, y), (x+w, y+h), (0,255,0), 2)\n",
    "        \n",
    "    #Show the webcam\n",
    "    cv2.imshow('Webcam', frame)\n",
    "    \n",
    "    # Stop the program by pressing 'q'    \n",
    "    if cv2.waitKey(1) == ord('q'):\n",
    "        break\n",
    "\n",
    "        \n",
    "#destroy all the windows\n",
    "video.release()\n",
    "# Destroy all the windows\n",
    "cv2.destroyAllWindows()"
   ]
  },
  {
   "cell_type": "code",
   "execution_count": null,
   "id": "7306e2bb",
   "metadata": {},
   "outputs": [],
   "source": []
  },
  {
   "cell_type": "code",
   "execution_count": null,
   "id": "ae68098c",
   "metadata": {},
   "outputs": [],
   "source": []
  }
 ],
 "metadata": {
  "kernelspec": {
   "display_name": "Python 3 (ipykernel)",
   "language": "python",
   "name": "python3"
  },
  "language_info": {
   "codemirror_mode": {
    "name": "ipython",
    "version": 3
   },
   "file_extension": ".py",
   "mimetype": "text/x-python",
   "name": "python",
   "nbconvert_exporter": "python",
   "pygments_lexer": "ipython3",
   "version": "3.9.13"
  }
 },
 "nbformat": 4,
 "nbformat_minor": 5
}
