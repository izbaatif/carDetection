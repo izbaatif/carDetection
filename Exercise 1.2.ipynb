{
 "cells": [
  {
   "cell_type": "markdown",
   "id": "8a7023be",
   "metadata": {},
   "source": [
    "<html>\n",
    "    <body>\n",
    "        <h1 align='center'> Motion Detection </h1>\n",
    "            <p> For this task, I used the same technique of setting the first frame as background and calculating the difference between that and the current frame to get the movement. However, this time I just needed cars going to the city center so I knew that every car going there had to pass through the road the top part of the main road. So I cropped the frame so that I can just get about the width of 1 car. Then whenever movement was detected in this part, I set the current car numbers to 1. I then set the previous cars with the value of the current cars on the previous frame. Lastly, I used if condition to check if the previous car was greater than current car (car left that area of screen) so then I increased the car count by 1. </p>\n",
    "    </body>\n",
    "</html>"
   ]
  },
  {
   "cell_type": "code",
   "execution_count": 2,
   "id": "49b35392",
   "metadata": {},
   "outputs": [
    {
     "name": "stdout",
     "output_type": "stream",
     "text": [
      "Defaulting to user installation because normal site-packages is not writeable\n",
      "Requirement already satisfied: opencv-python in c:\\users\\izbaa\\appdata\\roaming\\python\\python39\\site-packages (4.7.0.68)\n",
      "Requirement already satisfied: numpy>=1.17.3 in c:\\programdata\\anaconda3\\lib\\site-packages (from opencv-python) (1.21.5)\n",
      "Note: you may need to restart the kernel to use updated packages.\n"
     ]
    }
   ],
   "source": [
    "pip install opencv-python"
   ]
  },
  {
   "cell_type": "code",
   "execution_count": 3,
   "id": "86538b7e",
   "metadata": {},
   "outputs": [],
   "source": [
    "import cv2\n",
    "import datetime"
   ]
  },
  {
   "cell_type": "code",
   "execution_count": 4,
   "id": "46cca9ef",
   "metadata": {},
   "outputs": [],
   "source": [
    "def car_detection(video_name):\n",
    "\n",
    "    #set first frame to None initially \n",
    "    first_frame = None\n",
    "\n",
    "    #set previous cars to none\n",
    "    previous_cars = None\n",
    "\n",
    "    # We use VideoCapture function to open video\n",
    "    video=cv2.VideoCapture(video_name + \".mp4\")\n",
    "\n",
    "    #initially set the cars to 0\n",
    "    car_count=0\n",
    "\n",
    "    # count the number of frames and fps to get the time\n",
    "    frame_num = video.get(cv2.CAP_PROP_FRAME_COUNT)\n",
    "    fps = video.get(cv2.CAP_PROP_FPS)\n",
    "  \n",
    "    # calculate duration of the video\n",
    "    seconds = round(frame_num / fps)\n",
    "    seconds = seconds % 3600\n",
    "    minutes = round(seconds / 60,2)\n",
    "\n",
    "    # Start a loop and keep reading frames until we press 'q' or the video ends\n",
    "    while True:\n",
    "    \n",
    "        #reads frames\n",
    "        check, frame = video.read()\n",
    "    \n",
    "        #Checks if the video has ended and breaks the loop if its true\n",
    "        if frame is None:\n",
    "            break\n",
    " \n",
    "        #First convert to grey because opencv uses brg and crop it to the needed location\n",
    "        current_frame=cv2.cvtColor(frame,cv2.COLOR_BGR2GRAY)[320:380 , 60:105]\n",
    "    \n",
    "        #Checks if the first frame is not assigned yet\n",
    "        if (first_frame is None):\n",
    "            #Assigns that frame as the first frame\n",
    "            first_frame = current_frame\n",
    "            continue\n",
    "            \n",
    "        #Calculates the difference and threshold\n",
    "        delta_frame = cv2.absdiff(first_frame, current_frame)\n",
    "        threshold_frame=cv2.threshold(delta_frame, 20 ,255, cv2.THRESH_BINARY)[1]\n",
    "    \n",
    "        #Finds the contours in threshold\n",
    "        (contours,_)=cv2.findContours(threshold_frame,cv2.RETR_EXTERNAL,cv2.CHAIN_APPROX_SIMPLE)\n",
    "    \n",
    "        #initially set current cars to 0\n",
    "        current_cars = 0\n",
    "    \n",
    "        if previous_cars == None:\n",
    "            previous_cars = current_cars\n",
    "\n",
    "        #Loops in the contours array\n",
    "        for c in contours:\n",
    "            # contourArea() method filters out any small contours\n",
    "            if cv2.contourArea(c) < 60:\n",
    "                continue\n",
    "                \n",
    "            #So whenever there is a contour, increase current car by 1    \n",
    "            current_cars = 1\n",
    "        \n",
    "        #Check if current cars is less than previous cars so a car has left the cropped area\n",
    "        if current_cars < previous_cars:\n",
    "            car_count += 1\n",
    "        \n",
    "        #Set the previous car as current car number\n",
    "        previous_cars = current_cars\n",
    "        \n",
    "        \n",
    "        cv2.putText(frame, \"Cars going to city center: {}\".format(car_count), (10, 30), cv2.FONT_HERSHEY_SIMPLEX, 1, (0, 255, 0), 2)\n",
    "        \n",
    "        #Show the webcam\n",
    "        cv2.imshow('Webcam', frame)\n",
    "    \n",
    "    \n",
    "        # Stop the program by pressing 'q'    \n",
    "        if cv2.waitKey(1) == ord('q'):\n",
    "            break\n",
    " \n",
    "    #destroy all the windows\n",
    "    video.release()\n",
    "    # Destroy all the windows\n",
    "    cv2.destroyAllWindows()\n",
    "\n",
    "    print(\"Total Cars: \" + str(car_count))\n",
    "    cars_per_min = round(car_count/minutes,2)\n",
    "    print(\"Cars per minute: \" + str(cars_per_min))"
   ]
  },
  {
   "cell_type": "code",
   "execution_count": 6,
   "id": "6c3fc539",
   "metadata": {},
   "outputs": [
    {
     "name": "stdout",
     "output_type": "stream",
     "text": [
      "Total Cars: 6\n",
      "Cars per minute: 2.02\n"
     ]
    }
   ],
   "source": [
    "car_detection(\"Traffic_Laramie_1\")"
   ]
  },
  {
   "cell_type": "code",
   "execution_count": 7,
   "id": "07cf5024",
   "metadata": {},
   "outputs": [
    {
     "name": "stdout",
     "output_type": "stream",
     "text": [
      "Total Cars: 4\n",
      "Cars per minute: 2.26\n"
     ]
    }
   ],
   "source": [
    "car_detection(\"Traffic_Laramie_2\")"
   ]
  },
  {
   "cell_type": "code",
   "execution_count": null,
   "id": "2465024e",
   "metadata": {},
   "outputs": [],
   "source": []
  },
  {
   "cell_type": "code",
   "execution_count": null,
   "id": "edcc1c8e",
   "metadata": {},
   "outputs": [],
   "source": []
  }
 ],
 "metadata": {
  "kernelspec": {
   "display_name": "Python 3 (ipykernel)",
   "language": "python",
   "name": "python3"
  },
  "language_info": {
   "codemirror_mode": {
    "name": "ipython",
    "version": 3
   },
   "file_extension": ".py",
   "mimetype": "text/x-python",
   "name": "python",
   "nbconvert_exporter": "python",
   "pygments_lexer": "ipython3",
   "version": "3.9.13"
  }
 },
 "nbformat": 4,
 "nbformat_minor": 5
}
